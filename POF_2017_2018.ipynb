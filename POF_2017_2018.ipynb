{
  "nbformat": 4,
  "nbformat_minor": 0,
  "metadata": {
    "colab": {
      "name": "POF 2017-2018.ipynb",
      "provenance": [],
      "collapsed_sections": []
    },
    "kernelspec": {
      "display_name": "Python 3",
      "name": "python3"
    }
  },
  "cells": [
    {
      "cell_type": "markdown",
      "metadata": {
        "id": "_3Cp9WNOyLjG"
      },
      "source": [
        "## Pesquisa de Orçamentos Familiares - POF 2017-2018"
      ]
    },
    {
      "cell_type": "markdown",
      "metadata": {
        "id": "S7Da77Uqy_HZ"
      },
      "source": [
        "Nesta aula prática, vamos trabalhar com dados da POF 2017-2018, utilizando códigos em R para aprender os seguintes tópicos:\n",
        "\n",
        "\n",
        "1.   Leitura de microdados utilizando a função read.fwf do R\n",
        "2.   Realizar a junção de dois sub bancos de dados da POF: Domicílios e Condições de vida\n",
        "4.   Incorporando a estrutura do plano amostral da POF nas análises estatísticas\n",
        "3.   Elaborar gráficos e tabelas\n"
      ]
    },
    {
      "cell_type": "markdown",
      "metadata": {
        "id": "5Y4I62RIT0bT"
      },
      "source": [
        "📚 Inicialmente vamos conectar a sessão ao seu Google drive. Então, antes de começar a trabalhar crie uma pasta no seu drive (POF) e que irá salvar todos os arquivos que você baixar.\n"
      ]
    },
    {
      "cell_type": "code",
      "metadata": {
        "id": "6s3BEhKAnvXH"
      },
      "source": [
        "#Conectando a sessão ao seu google drive \n",
        "from google.colab import drive\n",
        "drive.mount('/content/drive')"
      ],
      "execution_count": null,
      "outputs": []
    },
    {
      "cell_type": "code",
      "metadata": {
        "id": "FvB2zQ87u7hI"
      },
      "source": [
        "#Nesta prática vamos trabalhar com códigos em R. Para fazer isso vamos instalar a extensão rpy2 IPython ao notebook. \n",
        "%load_ext rpy2.ipython"
      ],
      "execution_count": null,
      "outputs": []
    },
    {
      "cell_type": "markdown",
      "metadata": {
        "id": "KtdAEzNs7pAY"
      },
      "source": [
        "📌 A partir de agora, sempre que você colocar o código %%R no início de cada célula, você conseguirá executar comandos do R no notebook."
      ]
    },
    {
      "cell_type": "markdown",
      "metadata": {
        "id": "DTTJ6f9u3qBr"
      },
      "source": [
        "📖 Há uma biblioteca em R sendo desenvolvida para leitura dos microdados da POF chamada POFIBGE. A documentação se encontra [aqui](https://cran.r-project.org/web/packages/POFIBGE/POFIBGE.pdf) mas enquanto ela não se encontra disponível, vamos utilizar funções mais genéricas para baixar e ler os microdados.\n",
        "\n",
        "No caso, vamos utiliziar a função [read.fwf](https://www.rdocumentation.org/packages/utils/versions/3.6.2/topics/read.fwf) para proceder a leitura de dois bancos de dados: Domicílios e Condições de vida. Ambos devem estar previamente salvos em seu Drive. \n",
        "\n",
        "Para baixar os bancos de dados, [clique aqui](https://www.ibge.gov.br/estatisticas/sociais/saude/24786-pesquisa-de-orcamentos-familiares-2.html?=&t=microdados).\n"
      ]
    },
    {
      "cell_type": "code",
      "metadata": {
        "id": "jl_Z58Hl6xaJ"
      },
      "source": [
        "#Leitura do banco de dados de Domicílio.\n",
        "%%R \n",
        "DOMICILIO <- \n",
        "  read.fwf(\"/content/drive/MyDrive/POF/DOMICILIO.txt\" \n",
        "           , widths = c(2,4,1,9,2,1,1,1,1,2,1,1,1,1,1,1,1,1,1,2,\n",
        "                        1,1,1,1,1,1,1,1,1,1,1,1,1,1,1,14,14,1\n",
        "                        )\n",
        "           , na.strings=c(\" \")\n",
        "           , col.names = c(\"UF\", \"ESTRATO_POF\", \"TIPO_SITUACAO_REG\",\n",
        "                           \"COD_UPA\", \"NUM_DOM\", \"V0201\", \"V0202\", \n",
        "                           \"V0203\", \"V0204\", \"V0205\", \"V0206\", \"V0207\",\n",
        "                           \"V0208\", \"V0209\", \"V02101\", \"V02102\",\n",
        "                           \"V02103\", \"V02104\", \"V02105\", \"V02111\",\n",
        "                           \"V02112\", \"V02113\", \"V0212\", \"V0213\",\n",
        "                           \"V02141\", \"V02142\", \"V0215\", \"V02161\", \n",
        "                           \"V02162\", \"V02163\", \"V02164\", \"V0217\", \n",
        "                           \"V0219\", \"V0220\", \"V0221\", \"PESO\",\n",
        "                           \"PESO_FINAL\", \"V6199\")\n",
        "           , dec=\".\"\n",
        "  )   "
      ],
      "execution_count": null,
      "outputs": []
    },
    {
      "cell_type": "code",
      "metadata": {
        "id": "q7JojO517ZcH"
      },
      "source": [
        "#Verificando a descrição das variáveis contidas no objeto criado (DOMICILIO)\n",
        "%%R \n",
        "ls(DOMICILIO)"
      ],
      "execution_count": null,
      "outputs": []
    },
    {
      "cell_type": "code",
      "metadata": {
        "id": "RnutR71FB5_F"
      },
      "source": [
        "#Leitura do banco de dados de Condições de vida.\n",
        "%%R \n",
        "CONDICOES_VIDA <- \n",
        "  read.fwf(\"/content/drive/MyDrive/POF/CONDICOES_VIDA.txt\" \n",
        "           , widths = c(2,4,1,9,2,1,2,1,6,5,1,1,1,1,1,\n",
        "                        1,1,1,1,1,1,1,1,1,1,1,1,1,1,1,\n",
        "                        1,1,1,1,1,1,1,1,1,1,1,1,1,1,1,\n",
        "                        1,1,1,1,1,1,1,14,14,10)\n",
        "           , na.strings=c(\" \")\n",
        "           , col.names = c(\"UF\", \"ESTRATO_POF\", \"TIPO_SITUACAO_REG\",\n",
        "                           \"COD_UPA\", \"NUM_DOM\", \"NUM_UC\", \"COD_INFORMANTE\",\n",
        "                           \"V6101\", \"V6102\", \"V6103\", \"V61041\", \"V61042\",\n",
        "                           \"V61043\", \"V61044\", \"V61045\", \"V61046\", \n",
        "                           \"V61051\", \"V61052\", \"V61053\", \"V61054\",\n",
        "                           \"V61055\", \"V61056\", \"V61057\", \"V61058\",\n",
        "                           \"V61061\", \"V61062\", \"V61063\", \"V61064\",\n",
        "                           \"V61065\", \"V61066\", \"V61067\", \"V61068\",\n",
        "                           \"V61069\", \"V610610\", \"V610611\", \"V61071\",\n",
        "                           \"V61072\", \"V61073\", \"V6108\", \"V6109\",\n",
        "                           \"V6110\", \"V6111\", \"V6112\", \"V6113\", \"V6114\",\n",
        "                           \"V6115\", \"V6116\", \"V6117\", \"V6118\", \"V6119\",\n",
        "                           \"V6120\", \"V6121\", \"PESO\", \"PESO_FINAL\",\n",
        "                           \"RENDA_TOTAL\")\n",
        "           , dec=\".\"\n",
        "  )   "
      ],
      "execution_count": null,
      "outputs": []
    },
    {
      "cell_type": "code",
      "metadata": {
        "id": "zScxPkoSCQNU"
      },
      "source": [
        "#Verificando a descrição das variáveis contidas no objeto criado (CONDIÇÕES_VIDA)\n",
        "%%R \n",
        "ls(CONDICOES_VIDA)"
      ],
      "execution_count": null,
      "outputs": []
    },
    {
      "cell_type": "markdown",
      "metadata": {
        "id": "kyvwYTBdm2KD"
      },
      "source": [
        "Para proceder à junção dos bancos de dados com informações do domicílio e das condições de vida, utilizaremos duas variáveis chave: Código da Unidade Primária de Amostragem (COD_UPA) e Número do Domicílio (NUM_DOM)."
      ]
    },
    {
      "cell_type": "code",
      "metadata": {
        "id": "fLmCqO5wDMEK"
      },
      "source": [
        "#Verificando o nível de mensuração da variável COD_UPA - DOMICILIOS \n",
        "%%R\n",
        "str(DOMICILIO$COD_UPA)"
      ],
      "execution_count": null,
      "outputs": []
    },
    {
      "cell_type": "code",
      "metadata": {
        "id": "H27U5g--DTPq"
      },
      "source": [
        "#Verificando o nível de mensuração da variável COD_UPA - CONDICOES_VIDA \n",
        "%%R\n",
        "str(CONDICOES_VIDA$COD_UPA)"
      ],
      "execution_count": null,
      "outputs": []
    },
    {
      "cell_type": "code",
      "metadata": {
        "id": "g-gOQZELDaui"
      },
      "source": [
        "#Verificando o nível de mensuração da variável NUM_DOM - DOMICILIOS \n",
        "%%R\n",
        "str(DOMICILIO$NUM_DOM)"
      ],
      "execution_count": null,
      "outputs": []
    },
    {
      "cell_type": "code",
      "metadata": {
        "id": "lnhfIdqjDhXp"
      },
      "source": [
        "#Verificando o nível de mensuração da variável NUM_DOM - CONDICOES_VIDA \n",
        "%%R\n",
        "str(CONDICOES_VIDA$NUM_DOM)"
      ],
      "execution_count": null,
      "outputs": []
    },
    {
      "cell_type": "code",
      "metadata": {
        "id": "eXajPeVhCtpk"
      },
      "source": [
        "#Procedendo à junção dos bancos de dados (merge)\n",
        "%%R\n",
        "DOM_CONDICOES_VIDA <- merge(DOMICILIO, CONDICOES_VIDA, by=c(\"COD_UPA\", \"NUM_DOM\"))"
      ],
      "execution_count": null,
      "outputs": []
    },
    {
      "cell_type": "code",
      "metadata": {
        "id": "6UyIA2uJDy3p"
      },
      "source": [
        "#Verificando a descrição das variáveis contidas no objeto criado e que reúne informaçõe dos dois bancos de dados (DOM_CONDICOES_VIDA)\n",
        "%%R\n",
        "ls(DOM_CONDICOES_VIDA)"
      ],
      "execution_count": null,
      "outputs": []
    },
    {
      "cell_type": "markdown",
      "metadata": {
        "id": "cr2p2sFJpycg"
      },
      "source": [
        "Variáveis que vamos trabalhar:\n",
        "\n",
        "1.   UF: Unidade da Federação (ver no sigaa qual a sua UF)\n",
        "2.   COD_UPA: Código da Unidade Primária de Amostragem (UPA)\n",
        "3.   ESTRATO_POF: estratos do plano amostral da pesquisa\n",
        "4.   TIPO_SITUACAO_REG.x: Situação do Domicílio\n",
        "5.   V0201: Tipo de domicílio\n",
        "6.   V6199: Situação de segurança alimentar do domicílio\n",
        "7.   V61041: Padrão de vida em relação à alimentação\n",
        "8.   V61045: Padrão de vida em relação à saúde\n",
        "9.   PESO_FINAL: fator de expansão (peso) ajustado às estimativas populacionais para 15 janeiro de 2018, segundo cada Unidade da Federação e pós estratos definidos\n",
        "\n"
      ]
    },
    {
      "cell_type": "markdown",
      "metadata": {
        "id": "o-YDUxaEsq6r"
      },
      "source": [
        "# Análise exploratória dos dados"
      ]
    },
    {
      "cell_type": "code",
      "metadata": {
        "id": "SRWNPRiUsvOh"
      },
      "source": [
        "#Variável Situação do domicílio (TIPO_SITUACAO_REG.x)\n",
        "%%R\n",
        "table(DOM_CONDICOES_VIDA$TIPO_SITUACAO_REG.x)"
      ],
      "execution_count": null,
      "outputs": []
    },
    {
      "cell_type": "code",
      "metadata": {
        "id": "QNt1EAajtDZh"
      },
      "source": [
        "#Adicionando os rótulos criando uma nova variável (situadom)\n",
        "%%R\n",
        "DOM_CONDICOES_VIDA$situadom<-factor(DOM_CONDICOES_VIDA$TIPO_SITUACAO_REG.x,labels=c('Urbano', 'Rural'))\n",
        "\n",
        "100*prop.table(table(DOM_CONDICOES_VIDA$situadom))"
      ],
      "execution_count": null,
      "outputs": []
    },
    {
      "cell_type": "code",
      "metadata": {
        "id": "IGs0ivrRGuwl"
      },
      "source": [
        "#Variável Tipo de domicílio (V0201)\n",
        "%%R\n",
        "table(DOM_CONDICOES_VIDA$V0201)"
      ],
      "execution_count": null,
      "outputs": []
    },
    {
      "cell_type": "code",
      "metadata": {
        "id": "boV3IkK-H75C"
      },
      "source": [
        "#Adicionando os rótulos criando uma nova variável (tipodom)\n",
        "%%R\n",
        "DOM_CONDICOES_VIDA$tipodom<-factor(DOM_CONDICOES_VIDA$V0201,labels=c('Casa', 'Apartamento', 'Casa de cômodos, cortiço ou cabeça de porco'))\n",
        "\n",
        "100*prop.table(table(DOM_CONDICOES_VIDA$tipodom))"
      ],
      "execution_count": null,
      "outputs": []
    },
    {
      "cell_type": "code",
      "metadata": {
        "id": "m3WPjegVt5-1"
      },
      "source": [
        "#Variável  Situação de segurança alimentar do domicílio  (V6199)\n",
        "%%R\n",
        "table(DOM_CONDICOES_VIDA$V6199)"
      ],
      "execution_count": null,
      "outputs": []
    },
    {
      "cell_type": "code",
      "metadata": {
        "id": "_4RPup_wuacI"
      },
      "source": [
        "#Adicionando os rótulos criando uma nova variável (seg_alimentar)\n",
        "%%R\n",
        "DOM_CONDICOES_VIDA$seg_alimentar<-factor(DOM_CONDICOES_VIDA$V6199,labels=c('Segurança', 'Insegurança leve', 'Insegurança moderada', 'Insegurança grave'))\n",
        "\n",
        "100*prop.table(table(DOM_CONDICOES_VIDA$seg_alimentar))"
      ],
      "execution_count": null,
      "outputs": []
    },
    {
      "cell_type": "code",
      "metadata": {
        "id": "NaUP81gRGANW"
      },
      "source": [
        "#Padrão de vida em relação à alimentação (V61041)\n",
        "%%R\n",
        "table(DOM_CONDICOES_VIDA$V61041)"
      ],
      "execution_count": null,
      "outputs": []
    },
    {
      "cell_type": "code",
      "metadata": {
        "id": "H2LYO-yWHex7"
      },
      "source": [
        "#Adicionando os rótulos criando uma nova variável (pv_alimentacao)\n",
        "%%R\n",
        "DOM_CONDICOES_VIDA$pv_alimentacao<-factor(DOM_CONDICOES_VIDA$V61041,labels=c('Bom', 'Satisfatório', 'Ruim'))\n",
        "\n",
        "100*prop.table(table(DOM_CONDICOES_VIDA$pv_alimentacao))"
      ],
      "execution_count": null,
      "outputs": []
    },
    {
      "cell_type": "code",
      "metadata": {
        "id": "UqElpZ40vOFQ"
      },
      "source": [
        "#Padrão de vida em relação à saúde (V61045)\n",
        "%%R\n",
        "table(DOM_CONDICOES_VIDA$V61045)"
      ],
      "execution_count": null,
      "outputs": []
    },
    {
      "cell_type": "code",
      "metadata": {
        "id": "XyLzh2DGG-oU"
      },
      "source": [
        "#Adicionando os rótulos criando uma nova variável (pv_saude)\n",
        "%%R\n",
        "DOM_CONDICOES_VIDA$pv_saude<-factor(DOM_CONDICOES_VIDA$V61045,labels=c('Bom', 'Satisfatório', 'Ruim'))\n",
        "\n",
        "100*prop.table(table(DOM_CONDICOES_VIDA$pv_saude))"
      ],
      "execution_count": null,
      "outputs": []
    },
    {
      "cell_type": "markdown",
      "metadata": {
        "id": "TFFWQIPnWsC9"
      },
      "source": [
        "\n",
        "## Incorporando a estrutura do plano amostral da POF nas análises estatísticas  \n",
        "\n",
        "Assim como  a PNAD C, a POF apresenta um desenho complexo de amostragem, então vamos incorporar a estrutura do plano amostral desta pesquisa nas análises  análises pontuais que faremos.\n"
      ]
    },
    {
      "cell_type": "code",
      "metadata": {
        "id": "y9WmXUcQV03R"
      },
      "source": [
        "#Vamos instalar o pacote survey\n",
        "%%R\n",
        "install.packages(\"survey\")"
      ],
      "execution_count": null,
      "outputs": []
    },
    {
      "cell_type": "code",
      "metadata": {
        "id": "p8pqLBa2dcA_"
      },
      "source": [
        "#E carrega-lo\n",
        "%%R\n",
        "library(survey)"
      ],
      "execution_count": null,
      "outputs": []
    },
    {
      "cell_type": "code",
      "metadata": {
        "id": "SLC1hlcPaaVJ"
      },
      "source": [
        "#Recompondo o plano amostral para Brasil \n",
        "%%R\n",
        "sample.pof <- svydesign(ids = ~COD_UPA, strata = ~ESTRATO_POF.x, weights = ~PESO_FINAL.x, data = DOM_CONDICOES_VIDA , na.rm=TRUE, nest = TRUE)\n",
        "\n",
        "# para evitar erro \"has only one PSU at stage 1\"\n",
        "options(survey.lonely.psu = \"adjust\")"
      ],
      "execution_count": null,
      "outputs": []
    },
    {
      "cell_type": "code",
      "metadata": {
        "id": "1Nyf5C60hlkN"
      },
      "source": [
        "#Agora você pode proceder às análises\n",
        "#a)  Proporção de domicílios segundo o nível de segurança alimentar no Brasil\n",
        "%%R\n",
        "svymean(~factor(seg_alimentar), design=sample.pof, na.rm=TRUE)"
      ],
      "execution_count": null,
      "outputs": []
    },
    {
      "cell_type": "code",
      "metadata": {
        "id": "0ErOUzbJyywg"
      },
      "source": [
        "#Representação em gráfico\n",
        "%%R\n",
        "a=svymean(~factor(seg_alimentar), design=sample.pof, na.rm=TRUE)\n",
        "barplot(a*100, main = \"Domicílios brasileiros segundo nível de segurança alimentar, 2017-2018.\", font.main = 13, col.main = \"blue\", cex.main = 1,\n",
        "        col = c(\"grey\", \"red\", \"red\", \"red\"), density=c(20), ylim = c(0, 100),\n",
        "        xlab = \"Fonte: POF, 2017-2018. IBGE\", names = c('Segurança', 'I. leve', 'I. moderada', 'I. grave')) "
      ],
      "execution_count": null,
      "outputs": []
    },
    {
      "cell_type": "code",
      "metadata": {
        "id": "bQiiUuokrN_A"
      },
      "source": [
        "#b)  Padrão de vida em relação à saúde  - Brasil\n",
        "%%R\n",
        "svymean(~factor(pv_saude), design=sample.pof, na.rm=TRUE)"
      ],
      "execution_count": null,
      "outputs": []
    },
    {
      "cell_type": "code",
      "metadata": {
        "id": "LnhSRmX2iXn_"
      },
      "source": [
        "#Representação em gráfico\n",
        "%%R\n",
        "b=svymean(~factor(pv_saude), design=sample.pof, na.rm=TRUE)\n",
        "barplot(b*100, main = \"Avaliação do padrão de vida da família em relação à saúde , 2017-2018.\", font.main = 13, col.main = \"blue\", cex.main = 1,\n",
        "        col = c(\"green\", \"yellow\", \"red\"), density=c(20), ylim = c(0, 100),\n",
        "        xlab = \"Fonte: POF, 2017-2018. IBGE\", names = c('Bom', 'Satisfatório', 'Ruim')) "
      ],
      "execution_count": null,
      "outputs": []
    },
    {
      "cell_type": "code",
      "metadata": {
        "id": "raf120Ew9vD0"
      },
      "source": [
        "#c)  Nível de segurança alimetar segundo o padrão de vida da família em relação à saúde   - Brasil\n",
        "%%R\n",
        "c=svyby(~seg_alimentar, ~pv_saude, sample.pof, svymean, na.rm=TRUE)\n",
        "barplot(c, main = \"Avaliação do padrão de vida da família em relação à saúde, 2017-2018.\", font.main = 13, col.main = \"black\", cex.main = 1,\n",
        " col = c(\"green\", \"yellow\", \"orange\", \"red\"), density=c(60), ylim = c(0, 1),        \n",
        "xlab = \"Fonte: POF, 2017-2018. IBGE\", \n",
        "ylab= \"Prop\", \n",
        "legend = c('Segurança', 'I. leve', 'I. moderada', 'I. grave'),font.lab = 2, col.lab = \"black\", cex.lab = 0.9,\n",
        "args.legend = list(title = \"Nível de segurança alimentar\", x = \"topright\", cex = .9))\n"
      ],
      "execution_count": null,
      "outputs": []
    },
    {
      "cell_type": "code",
      "metadata": {
        "id": "zOMByBZ8BakY"
      },
      "source": [
        "#Salvando a base de dados em seu drive\n",
        "%%R\n",
        "save(DOM_CONDICOES_VIDA,file=\"/content/drive/MyDrive/POF/dom_cvida.Rdata\")"
      ],
      "execution_count": null,
      "outputs": []
    },
    {
      "cell_type": "code",
      "metadata": {
        "id": "EYBpcebz6CCW"
      },
      "source": [
        "#Abrindo a base\n",
        "%%R\n",
        "load(\"/content/drive/MyDrive/POF/dom_cvida.Rdata\")"
      ],
      "execution_count": null,
      "outputs": []
    }
  ]
}