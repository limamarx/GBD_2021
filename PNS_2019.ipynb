{
  "nbformat": 4,
  "nbformat_minor": 0,
  "metadata": {
    "colab": {
      "name": "PNS 2019.ipynb",
      "provenance": [],
      "collapsed_sections": []
    },
    "kernelspec": {
      "display_name": "Python 3",
      "name": "python3"
    }
  },
  "cells": [
    {
      "cell_type": "markdown",
      "metadata": {
        "id": "_3Cp9WNOyLjG"
      },
      "source": [
        "## Pesquisa Nacional de Saúde - PNS 2019"
      ]
    },
    {
      "cell_type": "markdown",
      "metadata": {
        "id": "S7Da77Uqy_HZ"
      },
      "source": [
        "Nesta aula prática, vamos trabalhar com dados da PNS 2019, utilizando códigos em R para aprender os seguintes tópicos:\n",
        "\n",
        "\n",
        "1.   Leitura de microdados utilizando a biblioteca PNSIBGE\n",
        "2.   Colocar rótulos em todas as variáveis do banco de dados a partir da função pns_labeller\n",
        "3.   Elaborar gráficos.\n"
      ]
    },
    {
      "cell_type": "markdown",
      "metadata": {
        "id": "5Y4I62RIT0bT"
      },
      "source": [
        "📚 Inicialmente vamos conectar a sessão ao seu Google drive. Então, antes de começar a trabalhar crie uma pasta no seu drive (PNS) e que irá salvar todos os arquivos que você baixar.\n"
      ]
    },
    {
      "cell_type": "code",
      "metadata": {
        "id": "6s3BEhKAnvXH"
      },
      "source": [
        "#Conectando a sessão ao seu google drive \n",
        "from google.colab import drive\n",
        "drive.mount('/content/drive')"
      ],
      "execution_count": null,
      "outputs": []
    },
    {
      "cell_type": "code",
      "metadata": {
        "id": "FvB2zQ87u7hI"
      },
      "source": [
        "#Nesta prática vamos trabalhar com códigos em R. Para fazer isso vamos instalar a extensão rpy2 IPython ao notebook. \n",
        "%load_ext rpy2.ipython"
      ],
      "execution_count": null,
      "outputs": []
    },
    {
      "cell_type": "markdown",
      "metadata": {
        "id": "KtdAEzNs7pAY"
      },
      "source": [
        "📌 A partir de agora, sempre que você colocar o código %%R no início de cada célula, você conseguirá executar comandos do R no notebook."
      ]
    },
    {
      "cell_type": "markdown",
      "metadata": {
        "id": "K6rBfDEAi94A"
      },
      "source": [
        "📖 Utilizaremos ao longo desta aula a biblioteca PNSIBGE criada especificamente para leitura dos microdados da PNS. Maiores informações sobre ela você encontra [aqui](https://cran.r-project.org/web/packages/PNSIBGE/PNSIBGE.pdf)."
      ]
    },
    {
      "cell_type": "code",
      "metadata": {
        "id": "zP5kk09gor8b"
      },
      "source": [
        "#Instalando pacote da biblioteca do IBGE\n",
        "%%R\n",
        "install.packages(\"PNSIBGE\")\n"
      ],
      "execution_count": null,
      "outputs": []
    },
    {
      "cell_type": "code",
      "metadata": {
        "id": "4faSSZDZ8p-G"
      },
      "source": [
        "#Carregando\n",
        "%%R\n",
        "library(PNSIBGE)"
      ],
      "execution_count": null,
      "outputs": []
    },
    {
      "cell_type": "code",
      "metadata": {
        "id": "QQ9vUeRaqrT5",
        "colab": {
          "base_uri": "https://localhost:8080/"
        },
        "outputId": "297f856b-8715-4778-e52b-1581ab3d66fe"
      },
      "source": [
        "#Agora vamos baixar os microdados da PNS 2019\n",
        "#Observe que estamos baixando os microdados em uma pasta do drive (no exemplo, uma pasta chamada PNS)\n",
        "%%R\n",
        "get_pns(2019, selected = FALSE, anthropometry = FALSE, savedir=\"/content/drive/MyDrive/PNS\")"
      ],
      "execution_count": null,
      "outputs": [
        {
          "output_type": "stream",
          "name": "stderr",
          "text": [
            "R[write to console]: trying URL 'https://ftp.ibge.gov.br/PNS/2019/Microdados/Documentacao/Dicionario_e_input_20211109.zip'\n",
            "\n",
            "R[write to console]: Content type 'application/zip'\n",
            "R[write to console]:  length 172317 bytes (168 KB)\n",
            "\n",
            "R[write to console]: =\n",
            "R[write to console]: =\n",
            "R[write to console]: =\n",
            "R[write to console]: =\n",
            "R[write to console]: =\n",
            "R[write to console]: =\n",
            "R[write to console]: =\n",
            "R[write to console]: =\n",
            "R[write to console]: =\n",
            "R[write to console]: =\n",
            "R[write to console]: =\n",
            "R[write to console]: =\n",
            "R[write to console]: =\n",
            "R[write to console]: =\n",
            "R[write to console]: =\n",
            "R[write to console]: =\n",
            "R[write to console]: =\n",
            "R[write to console]: =\n",
            "R[write to console]: =\n",
            "R[write to console]: =\n",
            "R[write to console]: =\n",
            "R[write to console]: =\n",
            "R[write to console]: =\n",
            "R[write to console]: =\n",
            "R[write to console]: =\n",
            "R[write to console]: =\n",
            "R[write to console]: =\n",
            "R[write to console]: =\n",
            "R[write to console]: =\n",
            "R[write to console]: =\n",
            "R[write to console]: =\n",
            "R[write to console]: =\n",
            "R[write to console]: =\n",
            "R[write to console]: =\n",
            "R[write to console]: =\n",
            "R[write to console]: =\n",
            "R[write to console]: =\n",
            "R[write to console]: =\n",
            "R[write to console]: =\n",
            "R[write to console]: =\n",
            "R[write to console]: =\n",
            "R[write to console]: =\n",
            "R[write to console]: =\n",
            "R[write to console]: =\n",
            "R[write to console]: =\n",
            "R[write to console]: =\n",
            "R[write to console]: =\n",
            "R[write to console]: =\n",
            "R[write to console]: =\n",
            "R[write to console]: =\n",
            "R[write to console]: \n",
            "\n",
            "R[write to console]: downloaded 168 KB\n",
            "\n",
            "\n",
            "R[write to console]: trying URL 'https://ftp.ibge.gov.br/PNS/Documentacao_Geral/Deflatores.zip'\n",
            "\n",
            "R[write to console]: Content type 'application/zip'\n",
            "R[write to console]:  length 2232 bytes\n",
            "\n",
            "R[write to console]: =\n",
            "R[write to console]: =\n",
            "R[write to console]: =\n",
            "R[write to console]: =\n",
            "R[write to console]: =\n",
            "R[write to console]: =\n",
            "R[write to console]: =\n",
            "R[write to console]: =\n",
            "R[write to console]: =\n",
            "R[write to console]: =\n",
            "R[write to console]: =\n",
            "R[write to console]: =\n",
            "R[write to console]: =\n",
            "R[write to console]: =\n",
            "R[write to console]: =\n",
            "R[write to console]: =\n",
            "R[write to console]: =\n",
            "R[write to console]: =\n",
            "R[write to console]: =\n",
            "R[write to console]: =\n",
            "R[write to console]: =\n",
            "R[write to console]: =\n",
            "R[write to console]: =\n",
            "R[write to console]: =\n",
            "R[write to console]: =\n",
            "R[write to console]: =\n",
            "R[write to console]: =\n",
            "R[write to console]: =\n",
            "R[write to console]: =\n",
            "R[write to console]: =\n",
            "R[write to console]: =\n",
            "R[write to console]: =\n",
            "R[write to console]: =\n",
            "R[write to console]: =\n",
            "R[write to console]: =\n",
            "R[write to console]: =\n",
            "R[write to console]: =\n",
            "R[write to console]: =\n",
            "R[write to console]: =\n",
            "R[write to console]: =\n",
            "R[write to console]: =\n",
            "R[write to console]: =\n",
            "R[write to console]: =\n",
            "R[write to console]: =\n",
            "R[write to console]: =\n",
            "R[write to console]: =\n",
            "R[write to console]: =\n",
            "R[write to console]: =\n",
            "R[write to console]: =\n",
            "R[write to console]: =\n",
            "R[write to console]: \n",
            "\n",
            "R[write to console]: downloaded 2232 bytes\n",
            "\n",
            "\n"
          ]
        },
        {
          "output_type": "stream",
          "name": "stdout",
          "text": [
            "Stratified 1 - level Cluster Sampling design (with replacement)\n",
            "With (8028) clusters.\n",
            "survey::postStratify(design = data_prior, strata = ~V00283, population = popc.types)\n"
          ]
        }
      ]
    },
    {
      "cell_type": "markdown",
      "metadata": {
        "id": "DdX8w-yR-dG4"
      },
      "source": [
        "Ao final desse procedimento em sua pasta deverá conter 8 arquivos:\n",
        "1.   Deflatores.zip\n",
        "2.   Dicionario_e_input.zip\n",
        "3.   PNS_2019.txt\n",
        "4.   PNS_2019_20210826.zip\n",
        "5.   deflator_PNS_2019.xls\n",
        "6.   dicionario_PNS_microdados_2019.xls\n",
        "7.   input_PNS_2019.sas\n",
        "8.   input_PNS_2019.txt\n",
        "\n"
      ]
    },
    {
      "cell_type": "code",
      "metadata": {
        "id": "symG0PNgEalw"
      },
      "source": [
        "#Leitura dos microdados da PNS 2019: \n",
        "%%R\n",
        "PNS2019 <- read_pns(\"/content/drive/MyDrive/PNS/PNS_2019.txt\", \"/content/drive/MyDrive/PNS/input_PNS_2019.txt\")"
      ],
      "execution_count": null,
      "outputs": []
    },
    {
      "cell_type": "markdown",
      "metadata": {
        "id": "lAe7wcKHAinV"
      },
      "source": [
        "Dessa vez vamos utilizar uma função específica da biblioteca PNSIBGE para colocar rótulos em todas as variáveis categóricas (pns_labeller):"
      ]
    },
    {
      "cell_type": "code",
      "metadata": {
        "id": "i6e2taN5-uS6"
      },
      "source": [
        "#Aplicando a função pns_labeller e criando um novo objeto (pns19)\n",
        "%%R\n",
        "pns19 <- pns_labeller(PNS2019, \"/content/drive/MyDrive/PNS/dicionario_PNS_microdados_2019.xls\")"
      ],
      "execution_count": null,
      "outputs": []
    },
    {
      "cell_type": "code",
      "metadata": {
        "id": "oUprDGzuFHDS"
      },
      "source": [
        "#Visualizando o banco de dados\n",
        "%%R\n",
        "print(pns19)"
      ],
      "execution_count": null,
      "outputs": []
    },
    {
      "cell_type": "markdown",
      "metadata": {
        "id": "cr2p2sFJpycg"
      },
      "source": [
        "Para exercitar, vamos trabalhar com informações sobre Atendimento Pré-natal (Módulo S) da parte de Ciclo de Vida. Variáveis que vamos trabalhar:\n",
        "\n",
        "1.   V0001: Unidade da Federação \n",
        "2.   UPA_PNS: Código da Unidade Primária de Amostragem (UPA)\n",
        "3.   V0024: estratos do plano amostral da pesquisa\n",
        "4.   S073: As consultas do pré-natal foram feitas através do Sistema Único de Saúde (SUS)?\n",
        "5.   S080: Durante o pré-natal de (nome) foi realizado teste∕ exame para sífilis? \n",
        "6.   S081: Recebeu ou foi informada sobre o resultado do teste∕ exame para sífilis antes do parto?\n",
        "7.   S082: Qual foi o resultado do teste / exame para sífilis? \n",
        "8.   S086: Qual foi o resultado do teste∕ exame para sífilis do seu parceiro? \n",
        "9.   V00281: Peso do domicílio e dos moradores com correção de não entrevista com calibração pela projeção de população - Usado no cálculo de indicadores de domicílio e moradores\n",
        "\n"
      ]
    },
    {
      "cell_type": "code",
      "metadata": {
        "id": "jNQVBDoR33CD"
      },
      "source": [
        "#Para trabalhar com as variáveis relacionadas ao  desenho amostral da PNS 2019 precisaremos transformar de character(string)em numéricas\n",
        "%%R\n",
        "pns19$UPA_PNS=as.numeric(pns19$UPA_PNS)\n",
        "pns19$V0024=as.numeric(pns19$V0024)\n"
      ],
      "execution_count": null,
      "outputs": []
    },
    {
      "cell_type": "code",
      "metadata": {
        "id": "YSVkPcMfBz0C"
      },
      "source": [
        "#Conferindo\n",
        "%%R\n",
        "str(pns19)"
      ],
      "execution_count": null,
      "outputs": []
    },
    {
      "cell_type": "markdown",
      "metadata": {
        "id": "u-RdKLhsGHBn"
      },
      "source": [
        "\n",
        "## Incorporando a estrutura do plano amostral da PNS nas análises estatísticas  \n",
        "\n",
        "Assim como  a PNAD C e a POF, a PNS apresenta um desenho complexo de amostragem, então vamos incorporar a estrutura do plano amostral desta pesquisa nas análises  análises pontuais que faremos.\n"
      ]
    },
    {
      "cell_type": "code",
      "metadata": {
        "id": "w6T7IDKoGOhC"
      },
      "source": [
        "#Vamos instalar o pacote survey\n",
        "%%R\n",
        "install.packages(\"survey\")"
      ],
      "execution_count": null,
      "outputs": []
    },
    {
      "cell_type": "code",
      "metadata": {
        "id": "JdBAr8t1GTPv"
      },
      "source": [
        "#E carrega-lo\n",
        "%%R\n",
        "library(survey)"
      ],
      "execution_count": null,
      "outputs": []
    },
    {
      "cell_type": "code",
      "metadata": {
        "id": "VmeDvZSgHvS6"
      },
      "source": [
        "#Recompondo o plano amostral para Brasil \n",
        "%%R\n",
        "sample.pns <- svydesign(ids = ~UPA_PNS, strata = ~V0024, weights = ~V00281, data = pns19 , na.rm=TRUE, nest = TRUE)\n",
        "\n",
        "# para evitar erro \"has only one PSU at stage 1\"\n",
        "options(survey.lonely.psu = \"adjust\")"
      ],
      "execution_count": null,
      "outputs": []
    },
    {
      "cell_type": "code",
      "metadata": {
        "id": "HgP_PnSeKD-7",
        "colab": {
          "base_uri": "https://localhost:8080/",
          "height": 497
        },
        "outputId": "9d4fbb6f-d78c-4752-f7f4-f7fcfef22764"
      },
      "source": [
        "#Agora você pode proceder às análises\n",
        "#a)  Realização de teste∕ exame para sífilis durante o pré-natal e se realizou consultas pelo SUS\n",
        "%%R\n",
        "a=svyby( ~S073, ~S080, sample.pns, svymean, na.rm=TRUE)\n",
        "dotchart(a, main = \"Realização de teste∕ exame para sífilis durante o pré-natal e se realizou consultas pelo SUS, 2019.\", font.main = 12, col.main = \"black\", cex.main = 0.7,\n",
        "col = c(\"blue\", \"green\", \"orange\", \"red\"),\n",
        "xlab = \"Fonte: PNS, 2019. IBGE\")"
      ],
      "execution_count": null,
      "outputs": [
        {
          "output_type": "display_data",
          "data": {
            "image/png": "[encoded data removed]"
          },
          "metadata": {}
        }
      ]
    },
    {
      "cell_type": "code",
      "metadata": {
        "id": "KwuYGtrPDLZJ",
        "colab": {
          "base_uri": "https://localhost:8080/",
          "height": 497
        },
        "outputId": "03ff4486-cdf0-4153-c1a9-72f9f71d8ea1"
      },
      "source": [
        "#b)   Resultado do teste / exame para sífilis da mãe e do parceiro \n",
        "%%R\n",
        "b=svyby( ~S086, ~S082, sample.pns, svymean, na.rm=TRUE)\n",
        "dotchart(b, main = \"Resultado do teste / exame para sífilis da mãe e de seu parceiro, 2019.\", font.main = 13, col.main = \"black\", cex.main = 0.6,\n",
        "        col = c(\"red\", \"orange\",  \"green\", \"blue\"), \n",
        "        xlab = \"Fonte: PNS, 2019. IBGE\") "
      ],
      "execution_count": null,
      "outputs": [
        {
          "output_type": "display_data",
          "data": {
            "image/png": "[encoded data removed]"
          },
          "metadata": {}
        }
      ]
    },
    {
      "cell_type": "code",
      "metadata": {
        "id": "zOMByBZ8BakY"
      },
      "source": [
        "#Salvando a base de dados em seu drive\n",
        "%%R\n",
        "save(pns19,file=\"/content/drive/MyDrive/PNS/pns19.Rdata\")"
      ],
      "execution_count": null,
      "outputs": []
    },
    {
      "cell_type": "code",
      "metadata": {
        "id": "EYBpcebz6CCW"
      },
      "source": [
        "#Abrindo a base\n",
        "%%R\n",
        "load(\"/content/drive/MyDrive/PNS/pns19.Rdata\")"
      ],
      "execution_count": null,
      "outputs": []
    }
  ]
}