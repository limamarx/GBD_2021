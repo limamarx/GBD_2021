{
  "nbformat": 4,
  "nbformat_minor": 0,
  "metadata": {
    "colab": {
      "name": "Cadastro geral de empregados de desempregados (Caged).ipynb",
      "provenance": []
    },
    "kernelspec": {
      "name": "python3",
      "display_name": "Python 3"
    }
  },
  "cells": [
    {
      "cell_type": "markdown",
      "metadata": {
        "id": "_3Cp9WNOyLjG"
      },
      "source": [
        "## Cadastro geral de empregados de desempregados (Caged)"
      ]
    },
    {
      "cell_type": "markdown",
      "metadata": {
        "id": "S7Da77Uqy_HZ"
      },
      "source": [
        "Nesta aula prática, vamos realizar a leitura dos microdados do Caged e extrair algumas análises descritivas. \n",
        "Ela também será uma introdução ao Google Colaboratory, portanto, vamos utilizar apenas a linguagem Python."
      ]
    },
    {
      "cell_type": "markdown",
      "metadata": {
        "id": "ovLzgPJy6PKk"
      },
      "source": [
        "## Programando em Python no Google Colaboratory\n",
        "\n",
        "\n",
        "\n",
        "\n",
        "\n",
        "\n",
        "\n",
        "\n"
      ]
    },
    {
      "cell_type": "markdown",
      "metadata": {
        "id": "dza5OiXM8KDc"
      },
      "source": [
        "\n",
        "\n",
        "> Desenvolvida na década de 1990 pelo matemático holandês Guido Van Rossum, a linguagem de programação Python se caracteriza por sua versatilidade e  facilidade em sua curva de aprendizado.\n",
        "\n",
        "> Utilizada em programações sofisticadas no desenvolvimento de softwares e também na execução de tarefas do dia-a-dia de pesquisadores de diferentes áreas do conhecimento, o Python tem se popularizado junto com as áreas de Ciência de Dados e Inteligêcia Artificial.\n",
        "\n",
        "\n",
        "> O Python é uma linguagem de programação **orientada a objetos**, conforme iremos ver mais adiante.\n",
        "\n",
        "> Mas antes, vamos entender em quais ambientes podemos trabalhar com esta linguagem 🤓\n",
        "\n",
        "\n"
      ]
    },
    {
      "cell_type": "markdown",
      "metadata": {
        "id": "MHYLr258zjiv"
      },
      "source": [
        "\n",
        "\n",
        "1.   ***Instalando o Python na sua máquina***\n",
        "\n",
        "     Você pode instalar o Python em seu notebook ou microcomputador [baixando o instalador](https://www.python.org/downloads/) mais adequado ao sistema operacional em uso (linux, Windows, MAC OS etc).\n",
        "      \n",
        "2.   ***Programando em Python no Google Colaboratory***\n",
        "\n",
        "      Se você tem uma conta Google, é possível ter acesso ao Google Colaboratory (ou Google Colab), uma ferramenta em nuvem, **gratuita**, e que permite criar e executar códigos em Python. Esta é uma forma mais prática de trabalhar, com maior flexibilidade no compartilhamento dos códigos além de vantagens como a inclusão de algumas **bibliotecas** do Python e o espaço disponível em nuvem (embora recursos Pro possam ser adquiridos em casos de necessidades mais específicas). \n",
        "      Para fins desta disciplina, utilizaremos o Google Colab nas aulas durante todo o curso. \n",
        "\n",
        "    "
      ]
    },
    {
      "cell_type": "markdown",
      "metadata": {
        "id": "2q_q-wLUWw4D"
      },
      "source": [
        "Assim, você cria um notebook, que é um ambiente interativo que armazena os códigos criados em Python."
      ]
    },
    {
      "cell_type": "markdown",
      "metadata": {
        "id": "5Y4I62RIT0bT"
      },
      "source": [
        "Nas próximas aulas veremos que é possível criar e executar neste ambiente códigos em R, aguarde as cenas dos próximos capítulos 😀\n"
      ]
    },
    {
      "cell_type": "markdown",
      "metadata": {
        "id": "GQD431Y_cUW3"
      },
      "source": [
        "# Primeiros passos em Python: trabalhando com dados do Caged para o Rio Grande do Norte"
      ]
    },
    {
      "cell_type": "markdown",
      "metadata": {
        "id": "rl03bdBxcyR3"
      },
      "source": [
        "\n",
        "\n",
        "1.   ***Abrindo o notebook da aula prática sobre o Caged***\n",
        "\n",
        "      O notebook é um arquivo de extensão .ipynb que fica armazenado em seu Google Drive. Todos os notebooks das aulas estão salvos na pasta \"Notebooks\" compartilhada com a turma pelo Google Drive, para facilitar. \n",
        "\n",
        "      Depois de abrir, faça uma cópia para o seu Drive. Os notebooks também serão disponibilizados pelo SIGAA. \n",
        "\n",
        "      Para esta aula, o notebook se chama \"Aula 3 Caged\".\n",
        "\n",
        "2.   ***Importanto o banco de dados do Caged  para o Google Colab***\n",
        "      \n",
        "      Um das formas de trabalhar com um banco de dados no Google Colab é acessando um arquivo que esteja salvo no Google Drive. \n",
        "\n",
        "      No Google Drive da turma há uma pasta denominada \"Banco de Dados\", e para esta prática você deve baixar o arquivo RN_caged_dez20.txt, sobre os dados do Caged de dezembro de 2020. O arquivo também se encontra disponível via SIGAA.\n",
        "\n",
        "      \n",
        "\n",
        "\n",
        "\n",
        "\n",
        "\n",
        "\n",
        "\n"
      ]
    },
    {
      "cell_type": "code",
      "metadata": {
        "id": "6s3BEhKAnvXH",
        "colab": {
          "base_uri": "https://localhost:8080/"
        },
        "outputId": "d4a966d1-f349-4651-819b-66d8772b2776"
      },
      "source": [
        "#Conectando a sessão ao seu google drive \n",
        "from google.colab import drive\n",
        "drive.mount('/content/drive')"
      ],
      "execution_count": null,
      "outputs": [
        {
          "output_type": "stream",
          "name": "stdout",
          "text": [
            "Mounted at /content/drive\n"
          ]
        }
      ]
    },
    {
      "cell_type": "code",
      "metadata": {
        "id": "b-Fl7soBoe5u"
      },
      "source": [
        "#importanto a biblioteca pandas para ler um arquivo do tipo txt utilizando a função pandas.read_csv()\n",
        "import pandas as pd"
      ],
      "execution_count": null,
      "outputs": []
    },
    {
      "cell_type": "code",
      "metadata": {
        "id": "zP5kk09gor8b"
      },
      "source": [
        "#Lendo o banco de dados que você acabou de dar upload para seu drive\n",
        "RN = pd.read_csv('/content/drive/MyDrive/Gerenciamento de BD/RN_caged_dez20.txt', encoding = \"ISO-8859-1\", sep=',', decimal='.')"
      ],
      "execution_count": null,
      "outputs": []
    },
    {
      "cell_type": "code",
      "metadata": {
        "id": "zX23y6UJfAwF"
      },
      "source": [
        "#Visualizando o banco de dados\n",
        "RN"
      ],
      "execution_count": null,
      "outputs": []
    },
    {
      "cell_type": "code",
      "metadata": {
        "id": "OjPZxP4ItxF2"
      },
      "source": [
        "import pandas as pd"
      ],
      "execution_count": null,
      "outputs": []
    },
    {
      "cell_type": "code",
      "metadata": {
        "id": "vLCT-tcJvV2i"
      },
      "source": [
        "#Dessa vez, vamos trabalhar com códigos em R. Para fazer isso vamos instalar a extensão rpy2 IPython ao notebook. \n",
        "%load_ext rpy2.ipython"
      ],
      "execution_count": null,
      "outputs": []
    },
    {
      "cell_type": "code",
      "metadata": {
        "id": "wpdAAwzX1OL_"
      },
      "source": [
        "%%R \n",
        "install.packages(\"data.table\")"
      ],
      "execution_count": null,
      "outputs": []
    },
    {
      "cell_type": "code",
      "metadata": {
        "id": "cC3nhi1t1IBP"
      },
      "source": [
        "%%R \n",
        "library(data.table)"
      ],
      "execution_count": null,
      "outputs": []
    },
    {
      "cell_type": "code",
      "metadata": {
        "id": "tu7GnN4KvcBh"
      },
      "source": [
        "%%R  \n",
        "source(\"http://cemin.wikidot.com/local--files/raisr/rais.r\", encoding=\"utf-8\")"
      ],
      "execution_count": null,
      "outputs": []
    },
    {
      "cell_type": "code",
      "metadata": {
        "id": "IM5z00__18Bf"
      },
      "source": [
        "print(rais)"
      ],
      "execution_count": null,
      "outputs": []
    },
    {
      "cell_type": "code",
      "metadata": {
        "id": "fruahk8B6CyI"
      },
      "source": [
        "!wget 'http://cemin.wikidot.com/local--files/raisr/rais.r' "
      ],
      "execution_count": null,
      "outputs": []
    },
    {
      "cell_type": "code",
      "metadata": {
        "id": "HdY4AHoR9NVa"
      },
      "source": [
        "!wget ftp://ftp.mtps.gov.br/pdet/microdados/RAIS/Layouts/v%EDnculos/"
      ],
      "execution_count": null,
      "outputs": []
    },
    {
      "cell_type": "markdown",
      "metadata": {
        "id": "CxAEkkj4-dyK"
      },
      "source": [
        ""
      ]
    },
    {
      "cell_type": "markdown",
      "metadata": {
        "id": "0cb64x0OBY7l"
      },
      "source": [
        "# Vamos agora fazer uma análise exploratória dos dados antes de selecionar o seu município: "
      ]
    },
    {
      "cell_type": "code",
      "metadata": {
        "id": "PsHAQTAHf51D"
      },
      "source": [
        "#Visualizando as seis primeiras linhas\n"
      ],
      "execution_count": null,
      "outputs": []
    },
    {
      "cell_type": "code",
      "metadata": {
        "id": "U449QlJslURY"
      },
      "source": [
        "#Visualizando as dez primeiras linhas\n"
      ],
      "execution_count": null,
      "outputs": []
    },
    {
      "cell_type": "markdown",
      "metadata": {
        "id": "VYCuuCALldoa"
      },
      "source": [
        "# As variáveis podem ser de diferentes tipos e isso vai importar quando desejamos fazer transformações ou operações matemáticas: \n",
        "1.   object: inclui números e texto.\n",
        "2.   float64: números.\n",
        "3.   int64: números inteiros.\n",
        "4.   Datetime64: data e hora.\n",
        "5.   Category: conjunto finito de categorias\n",
        "\n",
        "Para maiores informações sobre tipos de variáveis, consulte o [link](https://colab.research.google.com/drive/1EtqLCjHNBr6ZafxuGtY3fmaioVhOc97b#scrollTo=VYCuuCALldoa&line=8&uniqifier=1) 💻"
      ]
    },
    {
      "cell_type": "code",
      "metadata": {
        "id": "xh3LiuiXlFT4"
      },
      "source": [
        "#Consultando o tipo das variáveis\n"
      ],
      "execution_count": null,
      "outputs": []
    },
    {
      "cell_type": "code",
      "metadata": {
        "id": "irjuAv2KAa2E"
      },
      "source": [
        "#A variável salário é do tipo float64, ou seja, é uma variável contínua e que apresenta seis casas decimais\n"
      ],
      "execution_count": null,
      "outputs": []
    },
    {
      "cell_type": "code",
      "metadata": {
        "id": "kEfKuwxqAVvO"
      },
      "source": [
        "#Vamos arrendondar o valor dos salários para 2 dígitos\n"
      ],
      "execution_count": null,
      "outputs": []
    },
    {
      "cell_type": "code",
      "metadata": {
        "id": "Z-h3MpL540gg"
      },
      "source": [
        "#Verificando se deu certo\n"
      ],
      "execution_count": null,
      "outputs": []
    },
    {
      "cell_type": "code",
      "metadata": {
        "id": "amLY7x-YC6SZ"
      },
      "source": [
        "#Qual o valor médio do salário dos trabalhadores celetistas no RN em dezembro de 2020?\n"
      ],
      "execution_count": null,
      "outputs": []
    },
    {
      "cell_type": "code",
      "metadata": {
        "id": "ynp2dpQeE1GE"
      },
      "source": [
        "#Arredondando o valor do salário para dois dígitos\n"
      ],
      "execution_count": null,
      "outputs": []
    },
    {
      "cell_type": "code",
      "metadata": {
        "id": "j5M2aozWBTDC"
      },
      "source": [
        "#A variável idade também é do tipo float. Vamos pedir uma análise descritiva, iniciando pela idade média dos trabalhadores:\n"
      ],
      "execution_count": null,
      "outputs": []
    },
    {
      "cell_type": "code",
      "metadata": {
        "id": "vxvVGxpvFp-q"
      },
      "source": [
        "#A idade mais jovem registrada no banco de dados\n"
      ],
      "execution_count": null,
      "outputs": []
    },
    {
      "cell_type": "code",
      "metadata": {
        "id": "KDpbN5uiFnUi"
      },
      "source": [
        "#A idade mais avançada observada\n"
      ],
      "execution_count": null,
      "outputs": []
    },
    {
      "cell_type": "code",
      "metadata": {
        "id": "zJ5yQWYDTEce"
      },
      "source": [
        "#Podemos também pedir uma análise descritiva mais geral:\n"
      ],
      "execution_count": null,
      "outputs": []
    },
    {
      "cell_type": "markdown",
      "metadata": {
        "id": "7s-LnQLfGbqD"
      },
      "source": [
        "# Agora, vamos trabalhar com as variáveis categóricas do banco de dados. Para isso você precisará consultar o dicionário do banco de dados (arquivo \"Layout Novo Caged Movimentação.xlsx\" que está salvo no drive e também no SIGAA)."
      ]
    },
    {
      "cell_type": "code",
      "metadata": {
        "id": "sx6puvS7GFJZ"
      },
      "source": [
        "#Iniciando pela variável sexo, vamos pedir uma análise descritiva:\n"
      ],
      "execution_count": null,
      "outputs": []
    },
    {
      "cell_type": "code",
      "metadata": {
        "id": "v2GXqTbgF1JC"
      },
      "source": [
        "#Colocando os rótulos da variável sexo de acordo com o dicionário de dados\n",
        "RN.sexo.cat.rename_categories([\"Masculino\", \"Feminino\"], inplace=True) "
      ],
      "execution_count": null,
      "outputs": []
    },
    {
      "cell_type": "markdown",
      "metadata": {
        "id": "UJwqkRyAJ2OZ"
      },
      "source": [
        "⚠ Isso aconteceu porque a variável sexo está definida como inteira (int64) no banco de dados. Podemos contornar este problema transformando-a em categórica, e em seguida atribuir os rótulos a cada categoria."
      ]
    },
    {
      "cell_type": "code",
      "metadata": {
        "id": "vrAlESsFJ1nZ"
      },
      "source": [
        "#Transformando a variável sexo de inteira para categórica\n"
      ],
      "execution_count": null,
      "outputs": []
    },
    {
      "cell_type": "code",
      "metadata": {
        "id": "PrxV8FbKLo42"
      },
      "source": [
        "#Agora podemos colocar os rótulos\n"
      ],
      "execution_count": null,
      "outputs": []
    },
    {
      "cell_type": "code",
      "metadata": {
        "id": "TfjZH1TML2A8"
      },
      "source": [
        "#Conferindo para ver se deu certo\n"
      ],
      "execution_count": null,
      "outputs": []
    },
    {
      "cell_type": "code",
      "metadata": {
        "id": "uHiOIeO5MQwr"
      },
      "source": [
        "#Façamos o mesmo para a variável tipo de movimentação ocorrida no mês de dezembro de 2020:\n",
        "##Transformando a variável de inteira para categórica\n"
      ],
      "execution_count": null,
      "outputs": []
    },
    {
      "cell_type": "code",
      "metadata": {
        "id": "ekanwzPWPA1g"
      },
      "source": [
        "#Pedindo a frequência desta nova variável:\n"
      ],
      "execution_count": null,
      "outputs": []
    },
    {
      "cell_type": "code",
      "metadata": {
        "id": "NSH_vaV8M49C"
      },
      "source": [
        "##Colocando os rótulos da nova variável criada sobre o tipo de movimentação\n",
        "##Observe que ao pedir a frequência, nem todas os tipos de movimentações ocorreram em dezembro no RN, e isso deve ser considerado aqui:\n",
        "RN.tipomovimentacao2.cat.rename_categories(['Admissão por primeiro emprego','Admissão por reemprego','Admissão por contrato trabalho prazo determinado','Desligamento por demissão sem justa causa',\n",
        "'Desligamento por demissão com justa causa','Culpa Recíproca','Admissão por reintegração','Desligamento a pedido','Término contrato trabalho prazo determinado','Desligamento por Término de contrato',\n",
        "'Desligamento por aposentadoria','Desligamento por morte','Desligamento por Acordo entre empregado e empregador', 'Não Identificado'], inplace=True) "
      ],
      "execution_count": null,
      "outputs": []
    },
    {
      "cell_type": "code",
      "metadata": {
        "id": "ljtqtGUcQoID"
      },
      "source": [
        "##Conferindo:\n"
      ],
      "execution_count": null,
      "outputs": []
    },
    {
      "cell_type": "markdown",
      "metadata": {
        "id": "WLRcmg0Be8yc"
      },
      "source": [
        "# Seguindo o roteiro da atividade para a elaboração do relatório: Compare os seguintes indicadores de seu município com o estado do RN, utilizando os dados do CAGED para dezembro de 2020.  \n",
        "\n",
        "1.   Remuneração média do RN e de seu município;\n",
        "2.   Remuneração média por sexo no RN e em seu município;\n",
        "3.   Distribuição etária do trabalhador no RN e em seu município;\n",
        "4.   Distribuição etária do trabalhador por sexo no RN e em seu município;\n",
        "5.   Distribuição etária por tipo de movimentação registrada no RN e em seu município.\n",
        "\n"
      ]
    },
    {
      "cell_type": "markdown",
      "metadata": {
        "id": "G3dAfsuhhf4f"
      },
      "source": [
        "# Selecionando o seu município (consulte o roteiro para obter o código do seu município)"
      ]
    },
    {
      "cell_type": "code",
      "metadata": {
        "id": "Codo8XRGhkuO"
      },
      "source": [
        "nomedoseumunicipio = RN.query(\"municipio == 'codigodoseumunicipio'\")"
      ],
      "execution_count": null,
      "outputs": []
    },
    {
      "cell_type": "code",
      "metadata": {
        "id": "cgxxDrtlRwQp"
      },
      "source": [
        "#Remuneração média: da mesma forma como fizemos no início, faça o mesmo para seu município, trocando apenas o nome do seu objeto. Compare.\n",
        "RN.salario.describe().round(2)"
      ],
      "execution_count": null,
      "outputs": []
    },
    {
      "cell_type": "code",
      "metadata": {
        "id": "dz73d2tlfnIc"
      },
      "source": [
        "#Para obter a remuneração média por sexo, precisaremos criar duas bases de dados distintas, uma para os homens e outra para as mulheres:\n",
        "Homens = RN.query(\"sexo2 == 'Masculino'\")\n",
        "Mulheres = RN.query(\"sexo2 == 'Feminino'\")"
      ],
      "execution_count": null,
      "outputs": []
    },
    {
      "cell_type": "code",
      "metadata": {
        "id": "mIfe6IBMfn9_"
      },
      "source": [
        "#Agora basta substituir os objetos e calcular a diferença salarial por sexo no RN e no seu município\n",
        "#Para obter a remuneração média por sexo, precisaremos criar duas bases de dados distintas, uma para os homens e outra para as mulheres:\n",
        "Homens.salario.describe().round(2)\n",
        "Mulheres.salario.describe().round(2)"
      ],
      "execution_count": null,
      "outputs": []
    },
    {
      "cell_type": "markdown",
      "metadata": {
        "id": "Ss5pUnEtgDz9"
      },
      "source": [
        "💡 Dica: quando for gerar os objetos para homens e mulheres de seu munícipio, utilize um nome diferente daquele usado para o cálculo do RN! "
      ]
    },
    {
      "cell_type": "markdown",
      "metadata": {
        "id": "w74Rm0kcUtbE"
      },
      "source": [
        "# Ao longo das aulas, vamos executando funções que precisam ser instaladas de suas respectivas bibliotecas. \n",
        "\n",
        "Conforme falamos anteriormente, algumas bibliotecas já se encontram instaladas e precisaremos apenas importar. \n",
        "\n",
        "Isso vai ficando claro ao longo das aulas, não se preocupe! 😉"
      ]
    },
    {
      "cell_type": "code",
      "metadata": {
        "id": "cG-zInXAWFv5"
      },
      "source": [
        "#Para gerar as próximas figuras precisaremos importar as bibliotecas matplotlib e seaborn:\n",
        "import matplotlib.pyplot as plt\n",
        "import seaborn as sns\n",
        "sns.set()"
      ],
      "execution_count": null,
      "outputs": []
    },
    {
      "cell_type": "code",
      "metadata": {
        "id": "yduGjkW5UkVB"
      },
      "source": [
        "#Distribuição de idade\n",
        "##Total\n",
        "sns.distplot(RN[\"idade\"])\n",
        "plt.xlabel(\"Idade do trabalhador celetista\", fontsize=10)\n",
        "plt.ylabel(\"Frequência\",fontsize=10)\n",
        "plt.title(\"Distribuição da idade do trabalhador, dez.2020\", fontsize=11)"
      ],
      "execution_count": null,
      "outputs": []
    },
    {
      "cell_type": "code",
      "metadata": {
        "id": "OLIhqwXpXGug"
      },
      "source": [
        "#Obtendo os histogramas da distribuição de idade para trabalhadores do sexo masculino e feminino, e utilizando os objetos criados anteriormente.\n",
        "sns.distplot(Homens[\"idade\"])\n",
        "plt.xlabel(\"Idade do trabalhador celetista\", fontsize=10)\n",
        "plt.ylabel(\"Frequência\",fontsize=10)\n",
        "plt.title(\"Distribuição da idade do trabalhador, homens, dez.2020\", fontsize=11)"
      ],
      "execution_count": null,
      "outputs": []
    },
    {
      "cell_type": "code",
      "metadata": {
        "id": "SpR8nadUXai-"
      },
      "source": [
        "sns.distplot(Mulheres[\"idade\"])\n",
        "plt.xlabel(\"Idade do trabalhador celetista\", fontsize=10)\n",
        "plt.ylabel(\"Frequência\",fontsize=10)\n",
        "plt.title(\"Distribuição da idade do trabalhador, homens, dez.2020\", fontsize=11)"
      ],
      "execution_count": null,
      "outputs": []
    },
    {
      "cell_type": "code",
      "metadata": {
        "id": "Gxi-A-JcXrp1"
      },
      "source": [
        "#Vamos obter agora boxplots da distribuição etária de acordo com o tipo de movimentação apresentada. Lembre-se: faça para o RN e para seu município!\n",
        "sns.boxplot(x=\"idade\", y=\"tipomovimentacao2\", data=RN.sort_values(\"tipomovimentacao2\"))\n",
        "plt.xlabel(\"idade do trabalhador\", fontsize=12)\n",
        "plt.ylabel(\"Tipo de movimentação\",fontsize=12)\n",
        "plt.title(\"Distribuição etária por tipo de movimentação registrada, RN, dez.2020\", fontsize=17)"
      ],
      "execution_count": null,
      "outputs": []
    },
    {
      "cell_type": "markdown",
      "metadata": {
        "id": "H-gRVQNZaGBS"
      },
      "source": [
        "# O exercício da aula sobre o caged termina por aqui, você está apto a escrever o relatório (ver guia prático disponbilizado no SIGAA). \n",
        "\n",
        "# É preciso se acostumar com a linguagem, e para isso acontecer praticar é fundamental. Vamos em frente! 🙅"
      ]
    },
    {
      "cell_type": "code",
      "metadata": {
        "id": "54-KXIPi516I"
      },
      "source": [
        "#Mas antes de sair: salve os bancos de dados que você gerou e fez modificações no seu drive!\n",
        "RN.to_csv('RN_caged_dez2020.txt')\n",
        "!cp RN_caged_dez2020.txt \"/content/drive/MyDrive/Gerenciamento de BD\""
      ],
      "execution_count": null,
      "outputs": []
    }
  ]
}