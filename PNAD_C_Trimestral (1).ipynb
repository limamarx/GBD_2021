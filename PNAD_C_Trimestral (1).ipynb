{
  "nbformat": 4,
  "nbformat_minor": 0,
  "metadata": {
    "colab": {
      "name": "PNAD C Trimestral.ipynb",
      "provenance": [],
      "collapsed_sections": []
    },
    "kernelspec": {
      "display_name": "Python 3",
      "name": "python3"
    }
  },
  "cells": [
    {
      "cell_type": "markdown",
      "metadata": {
        "id": "_3Cp9WNOyLjG"
      },
      "source": [
        "## PNAD Contínua Trimestral"
      ]
    },
    {
      "cell_type": "markdown",
      "metadata": {
        "id": "S7Da77Uqy_HZ"
      },
      "source": [
        "Nesta aula prática, vamos trabalhar com dados da PNAD Contínua trimestral, utilizando códigos em R para aprender os seguintes tópicos:\n",
        "\n",
        "\n",
        "1.   Leitura de microdados utilizando a biblioteca PNADcIBGE\n",
        "2.   Recompor o plano amostral da pesquisa nas análises\n",
        "3.   Elaborar gráficos e tabelas\n",
        "\n"
      ]
    },
    {
      "cell_type": "markdown",
      "metadata": {
        "id": "5Y4I62RIT0bT"
      },
      "source": [
        "📚 Inicialmente vamos conectar a sessão ao seu Google drive. Então, antes de começar a trabalhar crie uma pasta no seu drive (PNADC) e que irá salvar todos os arquivos que você baixar.\n"
      ]
    },
    {
      "cell_type": "code",
      "metadata": {
        "id": "6s3BEhKAnvXH"
      },
      "source": [
        "#Conectando a sessão ao seu google drive \n",
        "from google.colab import drive\n",
        "drive.mount('/content/drive')"
      ],
      "execution_count": null,
      "outputs": []
    },
    {
      "cell_type": "code",
      "metadata": {
        "id": "FvB2zQ87u7hI"
      },
      "source": [
        "#Dessa vez, vamos trabalhar com códigos em R. Para fazer isso vamos instalar a extensão rpy2 IPython ao notebook. \n",
        "%load_ext rpy2.ipython"
      ],
      "execution_count": null,
      "outputs": []
    },
    {
      "cell_type": "markdown",
      "metadata": {
        "id": "KtdAEzNs7pAY"
      },
      "source": [
        "📌 A partir de agora, sempre que você colocar o cógido %%R no início de cada célula, você conseguirá executar comandos do R no notebook."
      ]
    },
    {
      "cell_type": "markdown",
      "metadata": {
        "id": "FOd_tDA_xhde"
      },
      "source": [
        "Utilizando a linguagem em Python, precisávamos instalar bibliotecas específicas para conseguir executar determinas comandos. No R a ideia é mesma: vamos instalar os pacotes necessários e depois temos que carrega-los toda vez que uma sessão for iniciada."
      ]
    },
    {
      "cell_type": "markdown",
      "metadata": {
        "id": "DTTJ6f9u3qBr"
      },
      "source": [
        "📖 Utilizaremos ao longo desta aula a biblioteca PNADcIBGE criada especificamente para leitura dos microdados da PNAD Contínua. Maiores informações sobre ela você encontra [aqui](https://cran.r-project.org/web/packages/PNADcIBGE/PNADcIBGE.pdf)."
      ]
    },
    {
      "cell_type": "code",
      "metadata": {
        "id": "zP5kk09gor8b"
      },
      "source": [
        "#Instalando pacote da biblioteca do IBGE\n",
        "%%R\n",
        "install.packages(\"PNADcIBGE\")\n"
      ],
      "execution_count": null,
      "outputs": []
    },
    {
      "cell_type": "code",
      "metadata": {
        "id": "4faSSZDZ8p-G"
      },
      "source": [
        "#Carregando\n",
        "%%R\n",
        "library(PNADcIBGE)"
      ],
      "execution_count": null,
      "outputs": []
    },
    {
      "cell_type": "code",
      "metadata": {
        "id": "QQ9vUeRaqrT5"
      },
      "source": [
        "#Agora vamos baixar os microdados da PNAD C Trimestral referentes ao 2o trimestre de 2021\n",
        "#Observe que estamos baixando os microdados em uma pasta do drive (no exemplo, uma pasta chamada PNADC)\n",
        "%%R\n",
        "get_pnadc(2021, quarter = 2, labels=TRUE, deflator=TRUE, design=TRUE, savedir=\"/content/drive/MyDrive/PNADC\")"
      ],
      "execution_count": null,
      "outputs": []
    },
    {
      "cell_type": "markdown",
      "metadata": {
        "id": "DdX8w-yR-dG4"
      },
      "source": [
        "Ao final desse procedimento em sua pasta deverá conter 5 arquivos:\n",
        "1.   Dicionario_e_input.zip\n",
        "2.   PNADC_022021.zip\n",
        "3.   dicionario_PNADC_microdados_trimestral.xls\n",
        "4.   input_PNADC_trimestral.sas\n",
        "5.   input_PNADC_trimestral.txt\n",
        "\n"
      ]
    },
    {
      "cell_type": "code",
      "metadata": {
        "id": "symG0PNgEalw"
      },
      "source": [
        "#Leitura dos microdados do 2o trimestre de 2021 da PNAD C:\n",
        "%%R\n",
        "PNAD022021 <- read_pnadc(\"/content/drive/MyDrive/PNADC/PNADC_022021.txt\", \"/content/drive/MyDrive/PNADC/input_PNADC_trimestral.txt\", vars = NULL)"
      ],
      "execution_count": null,
      "outputs": []
    },
    {
      "cell_type": "code",
      "metadata": {
        "id": "oUprDGzuFHDS"
      },
      "source": [
        "#Visualizando o banco de dados\n",
        "%%R\n",
        "print(PNAD022021)"
      ],
      "execution_count": null,
      "outputs": []
    },
    {
      "cell_type": "markdown",
      "metadata": {
        "id": "u0OIlBxrq6BA"
      },
      "source": [
        "Variáveis que vamos trabalhar:\n",
        "\n",
        "1.   UF: Unidade da Federação (ver no sigaa qual a sua UF)\n",
        "2.   UPA: Unidade Primária de Amostragem (UPA)\n",
        "3.   ESTRATO: Agrupamentos de seleção\n",
        "4.   VD4001: Condição em relação à força de trabalho na semana de referência para pessoas de 14 anos ou mais de idade\n",
        "5.   VD4002: Condição de ocupação na semana de referência para pessoas de 14 anos ou mais de idade\n",
        "6.   V2009: Idade do morador na data de referência\n",
        "7.   V2007: Sexo\n",
        "8.   VD4016: Rendimento mensal habitual do trabalho principal para pessoas de 14 anos ou mais de idade (apenas para pessoas que receberam em dinheiro, produtos ou mercadorias no trabalho principal)\n",
        "9.   V1028: Peso trimestral com correção de não entrevista com pós estratificação pela projeção de população\n",
        "\n"
      ]
    },
    {
      "cell_type": "code",
      "metadata": {
        "id": "0WnAiWly0H0Z"
      },
      "source": [
        "#Criando um objeto contendo apenas essas variáveis\n",
        "%%R\n",
        "reduz <- c(\"UF\", \"UPA\",\"Estrato\", \"VD4001\", \"VD4002\", \"V2009\", \"V2007\", \"VD4016\",\"V1028\")\n",
        "reduz_pnad <- PNAD022021[reduz]"
      ],
      "execution_count": null,
      "outputs": []
    },
    {
      "cell_type": "code",
      "metadata": {
        "id": "INcSLjg-1Tvd"
      },
      "source": [
        "#Conferindo se deu certo\n",
        "%%R\n",
        "print(reduz_pnad)"
      ],
      "execution_count": null,
      "outputs": []
    },
    {
      "cell_type": "code",
      "metadata": {
        "id": "PsHAQTAHf51D"
      },
      "source": [
        "#Obtendo a lista de variáveis contidas no banco de dados\n",
        "%%R\n",
        "names(reduz_pnad)"
      ],
      "execution_count": null,
      "outputs": []
    },
    {
      "cell_type": "code",
      "metadata": {
        "id": "iFQlnPYcK6_A"
      },
      "source": [
        "#Retirar a notação científica\n",
        "%%R \n",
        "options(scipen=999)"
      ],
      "execution_count": null,
      "outputs": []
    },
    {
      "cell_type": "code",
      "metadata": {
        "id": "Q8VF0jF0qNKX"
      },
      "source": [
        "#Para salvar os resultados com números separados por vírgula\n",
        "%%R \n",
        "options(OutDec=\",\")\n"
      ],
      "execution_count": null,
      "outputs": []
    },
    {
      "cell_type": "markdown",
      "metadata": {
        "id": "4ztSNiGm2Q9W"
      },
      "source": [
        "# Análise exploratória dos dados"
      ]
    },
    {
      "cell_type": "markdown",
      "metadata": {
        "id": "A90o9_el242L"
      },
      "source": [
        "No python trabalhamos com o tipo de variáveis, e vimos que muitas vezes precisamos transformar as variáveis de numérica pra string, string de numéricas... No R faremos o mesmo, porém por meio da função str. "
      ]
    },
    {
      "cell_type": "code",
      "metadata": {
        "id": "bJtk7THs2arG"
      },
      "source": [
        "#Identificando o tipo das variáveis do banco de dados\n",
        "%%R\n",
        "str(reduz_pnad)"
      ],
      "execution_count": null,
      "outputs": []
    },
    {
      "cell_type": "code",
      "metadata": {
        "id": "jNQVBDoR33CD"
      },
      "source": [
        "#Para trabalhar com as variáveis precisaremos transformar alguns de character(string)em numéricas\n",
        "%%R\n",
        "reduz_pnad$UF=as.numeric(reduz_pnad$UF)\n",
        "reduz_pnad$UPA=as.numeric(reduz_pnad$UPA)\n",
        "reduz_pnad$Estrato=as.numeric(reduz_pnad$Estrato)\n",
        "reduz_pnad$VD4001=as.numeric(reduz_pnad$VD4001)\n",
        "reduz_pnad$VD4002=as.numeric(reduz_pnad$VD4002)\n",
        "reduz_pnad$V2007=as.numeric(reduz_pnad$V2007)\n"
      ],
      "execution_count": null,
      "outputs": []
    },
    {
      "cell_type": "code",
      "metadata": {
        "id": "frrM3mcz4Id8"
      },
      "source": [
        "#Variável condição de atividade (VD4001)\n",
        "%%R\n",
        "table(reduz_pnad$VD4001)\n"
      ],
      "execution_count": null,
      "outputs": []
    },
    {
      "cell_type": "code",
      "metadata": {
        "id": "cTo9FMFp52l7"
      },
      "source": [
        "#Adicionando os rótulos criando uma nova variável (condat)\n",
        "%%R\n",
        "reduz_pnad$condat<-factor(reduz_pnad$VD4001,labels=c('PEA', 'Inativos'))\n",
        "\n",
        "100*prop.table(table(reduz_pnad$condat))"
      ],
      "execution_count": null,
      "outputs": []
    },
    {
      "cell_type": "code",
      "metadata": {
        "id": "TdA6uuMR4FRd"
      },
      "source": [
        "#Variável condição de ocupação (VD4002)\n",
        "%%R\n",
        "table(reduz_pnad$VD4002)"
      ],
      "execution_count": null,
      "outputs": []
    },
    {
      "cell_type": "code",
      "metadata": {
        "id": "V6JuIpcmAp3q"
      },
      "source": [
        "#Adicionando os rótulos criando uma nova variável (condocup)\n",
        "%%R\n",
        "reduz_pnad$condocup<-factor(reduz_pnad$VD4002,labels=c('Ocupadas', 'Desocupadas'))\n",
        "\n",
        "100*prop.table(table(reduz_pnad$condocup))"
      ],
      "execution_count": null,
      "outputs": []
    },
    {
      "cell_type": "code",
      "metadata": {
        "id": "9Y-U-fkmBek7",
        "colab": {
          "base_uri": "https://localhost:8080/"
        },
        "outputId": "4c9a8d80-a080-4cef-875a-eac5830eeb70"
      },
      "source": [
        "#Variável idade (V2009)\n",
        "%%R\n",
        "summary(reduz_pnad$V2009)"
      ],
      "execution_count": null,
      "outputs": [
        {
          "output_type": "stream",
          "name": "stdout",
          "text": [
            "   Min. 1st Qu.  Median    Mean 3rd Qu.    Max. \n",
            "   0,00   18,00   36,00   37,11   54,00  110,00 \n"
          ]
        }
      ]
    },
    {
      "cell_type": "code",
      "metadata": {
        "id": "wvA0kuntDq6H"
      },
      "source": [
        "#Construindo faixas etárias (IDADECAT)\n",
        "%%R\n",
        "reduz_pnad$IDADECAT <- factor(cut(reduz_pnad$V2009, breaks=c(14,20,25,30,35,40,45,50,55,60,65,110), labels=c(\"14-19\",\"20-24\",\"25-29\",\"30-34\",\"35-39\",\"40-44\",\"45-49\", \"50-54\",\"55-59\", \"60-64\",\"65+\"),right=FALSE))\n",
        "\n",
        "table(reduz_pnad$IDADECAT)\n",
        "\n",
        "100*prop.table(table(reduz_pnad$IDADECAT))"
      ],
      "execution_count": null,
      "outputs": []
    },
    {
      "cell_type": "code",
      "metadata": {
        "id": "J4xZeeWBq06y"
      },
      "source": [
        "%%R\n",
        "reduz_pnad$IDADECAT2 <- factor(cut(reduz_pnad$V2009, breaks=c(14,18,110), labels=c(\"14-17\",\"18+\"),right=FALSE))\n",
        "\n",
        "table(reduz_pnad$IDADECAT2)\n",
        "\n",
        "100*prop.table(table(reduz_pnad$IDADECAT2))"
      ],
      "execution_count": null,
      "outputs": []
    },
    {
      "cell_type": "code",
      "metadata": {
        "id": "j19UIhjkEYQ_",
        "colab": {
          "base_uri": "https://localhost:8080/"
        },
        "outputId": "8fe8a783-a0b9-42be-af42-4941c4ae8158"
      },
      "source": [
        "#Variável sexo (V2007)\n",
        "%%R\n",
        "table(reduz_pnad$V2007)"
      ],
      "execution_count": null,
      "outputs": [
        {
          "output_type": "stream",
          "name": "stdout",
          "text": [
            "\n",
            "     1      2 \n",
            "171580 184659 \n"
          ]
        }
      ]
    },
    {
      "cell_type": "code",
      "metadata": {
        "id": "JqrvkkyFKAsh",
        "colab": {
          "base_uri": "https://localhost:8080/"
        },
        "outputId": "00499fdd-2571-4fcb-bd23-695af7d8c7b1"
      },
      "source": [
        "#Adicionando os rótulos criando uma nova variável (sexo)\n",
        "%%R\n",
        "reduz_pnad$sexo<-factor(reduz_pnad$V2007,labels=c('Homens', 'Mulheres'))\n",
        "\n",
        "100*prop.table(table(reduz_pnad$sexo))"
      ],
      "execution_count": null,
      "outputs": [
        {
          "output_type": "stream",
          "name": "stdout",
          "text": [
            "\n",
            "  Homens Mulheres \n",
            "48,16429 51,83571 \n"
          ]
        }
      ]
    },
    {
      "cell_type": "code",
      "metadata": {
        "id": "oekuvtlfKhvH"
      },
      "source": [
        "#Variável renda (VD4016)\n",
        "%%R\n",
        "summary(reduz_pnad$VD4016)"
      ],
      "execution_count": null,
      "outputs": []
    },
    {
      "cell_type": "markdown",
      "metadata": {
        "id": "TFFWQIPnWsC9"
      },
      "source": [
        "\n",
        "## Recompor o plano amostral da PNAD C nas análises\n",
        "\n",
        "Uma vez que a PNAD C apresenta um desenho complexo de amostragem, ao fazer uma análise estatística desses dados é necessário incorporar a estrutura de seu plano amostral. Caso contrário, incorreções nas análises pontuais e intervalares podem ocorrer.\n",
        "\n",
        "Para ler mais sobre análises de pesquisas com desenho amostral complexo, [clique aqui](https://www.scielo.br/pdf/rbepid/v11s1/03.pdf).\n"
      ]
    },
    {
      "cell_type": "code",
      "metadata": {
        "id": "y9WmXUcQV03R"
      },
      "source": [
        "#Você precisa instalar o pacote survey\n",
        "%%R\n",
        "install.packages(\"survey\")"
      ],
      "execution_count": null,
      "outputs": []
    },
    {
      "cell_type": "code",
      "metadata": {
        "id": "p8pqLBa2dcA_"
      },
      "source": [
        "#E carrega-lo\n",
        "%%R\n",
        "library(survey)"
      ],
      "execution_count": null,
      "outputs": []
    },
    {
      "cell_type": "code",
      "metadata": {
        "id": "SLC1hlcPaaVJ"
      },
      "source": [
        "#Recompondo o plano amostral para Brasil \n",
        "%%R\n",
        "sample.pnadc <- svydesign(ids = ~UPA, strata = ~Estrato, weights = ~V1028, data = reduz_pnad , na.rm=TRUE, nest = TRUE)\n",
        "\n",
        "# para evitar erro \"has only one PSU at stage 1\"\n",
        "options(survey.lonely.psu = \"adjust\")"
      ],
      "execution_count": null,
      "outputs": []
    },
    {
      "cell_type": "code",
      "metadata": {
        "id": "1Nyf5C60hlkN",
        "colab": {
          "base_uri": "https://localhost:8080/"
        },
        "outputId": "cbb9fb73-6251-474e-a900-7615f4ab6136"
      },
      "source": [
        "#Agora você pode proceder às análises\n",
        "#a)  Condição de atividade - Brasil\n",
        "%%R\n",
        "svymean(~factor(condat), design=sample.pnadc, na.rm=TRUE)"
      ],
      "execution_count": null,
      "outputs": [
        {
          "output_type": "stream",
          "name": "stdout",
          "text": [
            "                          mean     SE\n",
            "factor(condat)PEA      0,57711 0,0017\n",
            "factor(condat)Inativos 0,42289 0,0017\n"
          ]
        }
      ]
    },
    {
      "cell_type": "code",
      "metadata": {
        "id": "U6Kl54jum5jy"
      },
      "source": [
        "#Representação em gráfico\n",
        "%%R\n",
        "a<-svymean(~factor(condat), design=sample.pnadc, na.rm=TRUE)\n",
        "barplot(a*100, names.arg=c(\"PEA\",\"Inativos\"), col=\"purple\", \n",
        "        ylim=c(0,100), main=\"Condição de atividade, Brasil, 2o tri 2021.\",\n",
        "        sub=\"Fonte: PNAD C, Brasil, 2o tri 2021.\")"
      ],
      "execution_count": null,
      "outputs": []
    },
    {
      "cell_type": "code",
      "metadata": {
        "id": "bQiiUuokrN_A"
      },
      "source": [
        "#b)  Condição de ocupação  - Brasil\n",
        "%%R\n",
        "svymean(~factor(condocup), design=sample.pnadc, na.rm=TRUE)"
      ],
      "execution_count": null,
      "outputs": []
    },
    {
      "cell_type": "code",
      "metadata": {
        "id": "LnhSRmX2iXn_"
      },
      "source": [
        "#Representação em gráfico\n",
        "%%R\n",
        "b<-svymean(~factor(condocup), design=sample.pnadc, na.rm=TRUE)\n",
        "barplot(b*100, names.arg=c(\"Ocupadas\",\"Desocupadas\"), col=\"grey\", \n",
        "        ylim=c(0,100), main=\"Condição de ocupação, Brasil, 2o tri 2021.\",\n",
        "        sub=\"Fonte: PNAD C, Brasil, 2o tri 2021.\")"
      ],
      "execution_count": null,
      "outputs": []
    },
    {
      "cell_type": "code",
      "metadata": {
        "id": "NLhvnzUCfNE9"
      },
      "source": [
        "#c)  Renda média por sexo  - Brasil\n",
        "%%R\n",
        "svyby(~VD4016, ~sexo, sample.pnadc, svymean, na.rm=TRUE)"
      ],
      "execution_count": null,
      "outputs": []
    },
    {
      "cell_type": "code",
      "metadata": {
        "id": "YMl4wRqvRTHf"
      },
      "source": [
        "# Exportando a tabela que geramos para o excel (ela ficará salva na sua sessão)\n",
        "%%R\n",
        "c=svyby(~VD4016, ~sexo, sample.pnadc, svymean, na.rm=TRUE)\n",
        "write.table(c,file=\"renda_sexo.xls\", sep = \"\\t\", dec = \",\")"
      ],
      "execution_count": null,
      "outputs": []
    },
    {
      "cell_type": "code",
      "metadata": {
        "id": "So0z_pr_3Bpn"
      },
      "source": [
        "#e)  Renda média por idade  - Brasil\n",
        "%%R\n",
        "svyby(~VD4016, ~IDADECAT, sample.pnadc, svymean, na.rm=TRUE)"
      ],
      "execution_count": null,
      "outputs": []
    },
    {
      "cell_type": "code",
      "metadata": {
        "id": "_fWo6NGbI4EO"
      },
      "source": [
        "# Exportando a tabela que geramos para o excel (ela ficará salva na sua sessão)\n",
        "%%R\n",
        "d=svyby(~VD4016, ~IDADECAT, sample.pnadc, svymean, na.rm=TRUE)\n",
        "write.table(d,file=\"renda_idade.xls\", sep = \"\\t\", dec = \",\")"
      ],
      "execution_count": null,
      "outputs": []
    },
    {
      "cell_type": "code",
      "metadata": {
        "id": "zOMByBZ8BakY"
      },
      "source": [
        "#Salvando a base de dados em seu drive\n",
        "%%R\n",
        "save(reduz_pnad,file=\"/content/drive/MyDrive/PNADC/reduz_pnad.Rdata\")"
      ],
      "execution_count": null,
      "outputs": []
    },
    {
      "cell_type": "code",
      "metadata": {
        "id": "EYBpcebz6CCW"
      },
      "source": [
        "#Abrindo a base\n",
        "%%R\n",
        "load(\"/content/drive/MyDrive/PNADC/reduz_pnad.Rdata\")"
      ],
      "execution_count": null,
      "outputs": []
    },
    {
      "cell_type": "markdown",
      "metadata": {
        "id": "P_ZTgsp3et3R"
      },
      "source": [
        "# Para o seu relatório, você deverá:\n",
        "\n",
        "\n",
        "*   Verificar a sua UF (vide arquivo anexado ao SIGAA)\n",
        "*   Criar um objeto apenas com dados da sua UF\n",
        "*   Recompor o plano amostral para a sua UF\n",
        "*   Criar gráficos/tabelas para a sua UF das letras a) até e) (as informaçoes das análises descritavas servem apenas de apoio, não precisa incluir as tabelas no relatório)\n",
        "*   Realizar uma análise comparativa do BR com sua UF\n"
      ]
    },
    {
      "cell_type": "code",
      "metadata": {
        "id": "etP7OwxGgI35"
      },
      "source": [
        "#Para criar um objeto apenas com dados da sua UF\n",
        "%%R\n",
        "AP <-reduz_pnad[reduz_pnad$UF==16,]"
      ],
      "execution_count": null,
      "outputs": []
    },
    {
      "cell_type": "code",
      "metadata": {
        "id": "mLmiK8ovjhBt"
      },
      "source": [
        "%%R\n",
        "print(AP)"
      ],
      "execution_count": null,
      "outputs": []
    },
    {
      "cell_type": "code",
      "metadata": {
        "id": "Bpg13aFGhgwW"
      },
      "source": [
        "#Para recompor o plano amostral para  sua UF (que vai se chamar subamostra e que você vai utilizar no lugar de sample.pnadc)\n",
        "%%R\n",
        "subamostra <- svydesign(ids = ~UPA, strata = ~Estrato, weights = ~V1028, data = AP, na.rm=TRUE, nest = TRUE)\n",
        "\n",
        "# para evitar erro \"has only one PSU at stage 1\"\n",
        "\n",
        "options(survey.lonely.psu = \"adjust\")"
      ],
      "execution_count": null,
      "outputs": []
    }
  ]
}