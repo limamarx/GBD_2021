{
  "nbformat": 4,
  "nbformat_minor": 0,
  "metadata": {
    "colab": {
      "name": "Introducao_Colab.ipynb",
      "provenance": []
    },
    "kernelspec": {
      "display_name": "Python 3",
      "name": "python3"
    }
  },
  "cells": [
    {
      "cell_type": "markdown",
      "metadata": {
        "id": "_3Cp9WNOyLjG"
      },
      "source": [
        "## Introdução ao Google Colaboratory para Gerenciamento de banco de dados"
      ]
    },
    {
      "cell_type": "markdown",
      "metadata": {
        "id": "S7Da77Uqy_HZ"
      },
      "source": [
        "💡 O que vamos aprender hoje? \n",
        "\n",
        "> Conhecer o ambiente Google Colaboratory\n",
        "\n",
        "> Importar bancos de dados pelo Colab\n",
        "\n",
        "> Salvar um banco de dados\n",
        "\n",
        "\n"
      ]
    },
    {
      "cell_type": "markdown",
      "metadata": {
        "id": "ovLzgPJy6PKk"
      },
      "source": [
        "## Programando em Python no Google Colaboratory\n",
        "\n",
        "\n",
        "\n",
        "\n",
        "\n",
        "\n",
        "\n",
        "\n"
      ]
    },
    {
      "cell_type": "markdown",
      "metadata": {
        "id": "dza5OiXM8KDc"
      },
      "source": [
        "\n",
        "\n",
        "> Desenvolvida na década de 1990 pelo matemático holandês Guido Van Rossum, a linguagem de programação Python se caracteriza por sua versatilidade e  facilidade em sua curva de aprendizado.\n",
        "\n",
        "> Utilizada em programações sofisticadas no desenvolvimento de softwares e também na execução de tarefas do dia-a-dia de pesquisadores de diferentes áreas do conhecimento, o Python tem se popularizado junto com as áreas de Ciência de Dados e Inteligêcia Artificial.\n",
        "\n",
        "\n",
        "> O Python é uma linguagem de programação **orientada a objetos**, conforme iremos ver mais adiante.\n",
        "\n",
        "> Mas antes, vamos entender em quais ambientes podemos trabalhar com esta linguagem 🤓\n",
        "\n",
        "\n"
      ]
    },
    {
      "cell_type": "markdown",
      "metadata": {
        "id": "MHYLr258zjiv"
      },
      "source": [
        "\n",
        "1.   ***Programando em Python no Google Colaboratory***\n",
        "\n",
        "      Se você tem uma conta Google, é possível ter acesso ao Google Colaboratory (ou Google Colab), uma ferramenta em nuvem, **gratuita** que permite combinar códigos, texto, imagens, HTML e outros em [notebooks](https://) do [Jupyter](https://jupyter.org/). Esta é uma forma mais prática de trabalhar, com maior flexibilidade no compartilhamento dos códigos além de vantagens como a inclusão de algumas **bibliotecas** de linguagens de programação e o espaço disponível em nuvem (embora recursos Pro possam ser adquiridos em casos de necessidades mais específicas). \n",
        "      Para fins desta disciplina, utilizaremos o Google Colab nas aulas durante todo o curso. \n",
        "\n",
        "    "
      ]
    },
    {
      "cell_type": "markdown",
      "metadata": {
        "id": "F4bRGh1MKrVm"
      },
      "source": [
        "## Notebook: conjunto de células\n",
        "\n",
        "> Para executar um código: clicar no ícone da célula ou Cmd/Ctrl+Enter\n",
        "\n",
        "\n",
        "> Adicionando # em uma célula, o texto fica destacado em verde e não será entendido como código.\n"
      ]
    },
    {
      "cell_type": "code",
      "metadata": {
        "id": "AzuARoG4L1Ko"
      },
      "source": [
        "#Retornar ao valor de a\n",
        "a=30\n",
        "a\n"
      ],
      "execution_count": null,
      "outputs": []
    },
    {
      "cell_type": "markdown",
      "metadata": {
        "id": "-KjyNypyf9ew"
      },
      "source": [
        "## Expressões numéricas\n",
        "\n",
        "> Segue os mesmos passos de uma calculadora comum:\n",
        "\n"
      ]
    },
    {
      "cell_type": "code",
      "metadata": {
        "id": "X3_MnZebfqnp",
        "colab": {
          "base_uri": "https://localhost:8080/"
        },
        "outputId": "edd154dc-eff1-4909-fdc8-2bea468c5b3d"
      },
      "source": [
        "1+1"
      ],
      "execution_count": null,
      "outputs": [
        {
          "output_type": "execute_result",
          "data": {
            "text/plain": [
              "2"
            ]
          },
          "metadata": {},
          "execution_count": 6
        }
      ]
    },
    {
      "cell_type": "code",
      "metadata": {
        "id": "Z8C6nD6Agcew"
      },
      "source": [
        "(2*20)/100"
      ],
      "execution_count": null,
      "outputs": []
    },
    {
      "cell_type": "markdown",
      "metadata": {
        "id": "OiJmhl-uhjI9"
      },
      "source": [
        "## Print - texto\n",
        "\n",
        "> Representando um texto (string). Use aspas simples (') ou aspas duplas (\")\n",
        "\n"
      ]
    },
    {
      "cell_type": "code",
      "metadata": {
        "id": "F-Qc6MLIibbF"
      },
      "source": [
        "print('UFRN')"
      ],
      "execution_count": null,
      "outputs": []
    },
    {
      "cell_type": "markdown",
      "metadata": {
        "id": "WIZyNN9Cip4j"
      },
      "source": [
        "## Print - emoji \n",
        "\n",
        "> Representando um emoji (figura): \n",
        "\n",
        "\n",
        "*   Instalar a biblioteca emoji do Python\n",
        "*   Importar a biblioteca que acabamos de instalar\n",
        "\n",
        "A lista de códigos de cada emoji você encontra [aqui](https://unicode.org/emoji/charts/emoji-list.html)\n",
        "\n",
        "\n"
      ]
    },
    {
      "cell_type": "code",
      "metadata": {
        "id": "prPzPczDjf0T"
      },
      "source": [
        "pip install emoji"
      ],
      "execution_count": null,
      "outputs": []
    },
    {
      "cell_type": "code",
      "metadata": {
        "id": "KPefwz19jl9o"
      },
      "source": [
        "import emoji"
      ],
      "execution_count": null,
      "outputs": []
    },
    {
      "cell_type": "code",
      "metadata": {
        "id": "NSNvDfamjzGo"
      },
      "source": [
        "#Colar o emoji \"joinha\" (thumbs up)\n",
        "print('\\U0001F44D')\n",
        "\t"
      ],
      "execution_count": null,
      "outputs": []
    },
    {
      "cell_type": "code",
      "metadata": {
        "id": "v70YctTZboh1"
      },
      "source": [
        "#Escolha um emoji e faça um print você mesmo.\n"
      ],
      "execution_count": null,
      "outputs": []
    },
    {
      "cell_type": "markdown",
      "metadata": {
        "id": "0Fa_Ga11k5A1"
      },
      "source": [
        "## Maiores informações sobre notebooks do Google Colab você encontra [aqui](https://colab.research.google.com/notebooks/basic_features_overview.ipynb#scrollTo=KR921S_OQSHG)."
      ]
    },
    {
      "cell_type": "markdown",
      "metadata": {
        "id": "5BxAOUK71-5p"
      },
      "source": [
        "## Importar bancos de dados pelo Colab\n",
        "\n",
        "Esta prática será corriqueira ao longo do curso, portanto é fundamental compreender esta parte. Há mais de uma forma de fazer, sendo a melhor forma de acordo com características do banco de dados como tamanho, tipo de arquivo e disponibilidade de bibliotecas específicas para importa-lo. Aqui vamos aprender as formas mais gerais de importar um banco de dados:\n"
      ]
    },
    {
      "cell_type": "markdown",
      "metadata": {
        "id": "IDwehrx62UUB"
      },
      "source": [
        "\n",
        "\n",
        "1.   Utilizando a URL de origem do banco de dados: Exemplo: [dados abertos da UFRN](https://dados.ufrn.br/)\n",
        "\n",
        "> No menu: pessoas > discentes vamos ler o banco de dados de ingressantes em 2019 a partir da URL https://dados.ufrn.br/dataset/554c2d41-cfce-4278-93c6-eb9aa49c5d16/resource/a55aef81-e094-4267-8643-f283524e3dd7/download/discentes-2019.csv\n",
        "\n",
        "\n",
        "\n",
        "\n"
      ]
    },
    {
      "cell_type": "code",
      "metadata": {
        "id": "_ug1YZ5ruWzY"
      },
      "source": [
        "#Importanto a biblioteca pandas \n",
        "import pandas as pd"
      ],
      "execution_count": null,
      "outputs": []
    },
    {
      "cell_type": "code",
      "metadata": {
        "id": "1MyiZ7P_J2Pm"
      },
      "source": [
        "#Lendo o arquivo usando a função pd.read_csv\n",
        "ingressantes19=pd.read_csv('https://dados.ufrn.br/dataset/554c2d41-cfce-4278-93c6-eb9aa49c5d16/resource/a55aef81-e094-4267-8643-f283524e3dd7/download/discentes-2019.csv', sep=';')\n",
        "ingressantes19"
      ],
      "execution_count": null,
      "outputs": []
    },
    {
      "cell_type": "markdown",
      "metadata": {
        "id": "Hbr0V2hL6S4q"
      },
      "source": [
        "## Caso não queira baixar diretamente da URL, você pode baixar o banco de dados (clicando sobre o link da URL) e importa-lo em sua sessão do Colab:\n",
        "\n"
      ]
    },
    {
      "cell_type": "code",
      "metadata": {
        "id": "Th-O72pV53FS"
      },
      "source": [
        "#Utilize o atalho \"Arquivos\" do seu menu superior esquerdo e em seguida faça a leitura por meio do código:\n",
        "ingressantes19_new=pd.read_csv('/content/discentes-2019.csv', sep=';')\n",
        "ingressantes19_new"
      ],
      "execution_count": null,
      "outputs": []
    },
    {
      "cell_type": "markdown",
      "metadata": {
        "id": "O7wMAj1X8t5u"
      },
      "source": [
        "## Outra opção e que podemos chamar de mais \"organizada\" é conectar a sessão ao seu Google Drive e ler o arquivo previamente salvo nele. "
      ]
    },
    {
      "cell_type": "code",
      "metadata": {
        "id": "LYHEy_9-9qpO"
      },
      "source": [
        "#Conectando a sessão ao seu google drive\n",
        "from google.colab import drive\n",
        "drive.mount('/content/drive')"
      ],
      "execution_count": null,
      "outputs": []
    },
    {
      "cell_type": "code",
      "metadata": {
        "id": "YbRW_IZn-OKj"
      },
      "source": [
        "#A leitura do banco de dados é similar ao que vimos nos passos anteriores, mudando apenas o endereço do arquivo:\n",
        "ingressantes19_d=pd.read_csv('/content/drive/MyDrive/GBD_P/discentes-2019.csv', sep=';')\n",
        "ingressantes19_d"
      ],
      "execution_count": null,
      "outputs": []
    },
    {
      "cell_type": "markdown",
      "metadata": {
        "id": "fw1t-O9z_z_Y"
      },
      "source": [
        "## Você pode salvar o banco de dados que acabou de importar. Como sua sessão está conectada ao seu google drive você pode salva-lo no mesmo lugar (e na extensão .csv)."
      ]
    },
    {
      "cell_type": "code",
      "metadata": {
        "id": "DwjM_Eq_AT4I"
      },
      "source": [
        "ingressantes19_d.to_csv('ingressantes19_d.csv')\n",
        "!cp ingressantes19_d.csv \"/content/drive/MyDrive/GBD_P\""
      ],
      "execution_count": null,
      "outputs": []
    },
    {
      "cell_type": "markdown",
      "metadata": {
        "id": "BtLTrF2j_Upy"
      },
      "source": [
        "## Além dessas opções, você pode fazer a leitura de banco de dados utilizando bibliotecas específicas em Python e R por exemplo. Porém, esse passo ficará para as próximas aulas 😀 "
      ]
    }
  ]
}